{
 "cells": [
  {
   "cell_type": "code",
   "execution_count": 1,
   "metadata": {},
   "outputs": [],
   "source": [
    "import sys \n",
    "sys.path.append('/home/jovyan/work/STA-663-Final-Project/SGHMC')\n",
    "import numpy as np\n",
    "import seaborn as sns\n",
    "from matplotlib import pyplot as plt\n",
    "import autograd.numpy as np\n",
    "from autograd import jacobian\n",
    "import pystan \n",
    "from sghmc.SGHMC_algorithm import sghmc,sghmc_cleaned\n",
    "import pandas as pd\n",
    "import tensorflow as tf\n",
    "from scipy import linalg as la"
   ]
  },
  {
   "cell_type": "code",
   "execution_count": 2,
   "metadata": {},
   "outputs": [],
   "source": [
    "data_demo=pd.read_csv(\"rep_demo.csv\")"
   ]
  },
  {
   "cell_type": "code",
   "execution_count": 3,
   "metadata": {},
   "outputs": [
    {
     "data": {
      "text/html": [
       "<div>\n",
       "<style scoped>\n",
       "    .dataframe tbody tr th:only-of-type {\n",
       "        vertical-align: middle;\n",
       "    }\n",
       "\n",
       "    .dataframe tbody tr th {\n",
       "        vertical-align: top;\n",
       "    }\n",
       "\n",
       "    .dataframe thead th {\n",
       "        text-align: right;\n",
       "    }\n",
       "</style>\n",
       "<table border=\"1\" class=\"dataframe\">\n",
       "  <thead>\n",
       "    <tr style=\"text-align: right;\">\n",
       "      <th></th>\n",
       "      <th>ISIN</th>\n",
       "      <th>name</th>\n",
       "      <th>sectors</th>\n",
       "      <th>No_reported_risk_exposure</th>\n",
       "      <th>Impacts_on_communities</th>\n",
       "      <th>Impacts_on_landscapes_ecosystems_and_biodiversity</th>\n",
       "      <th>Violation_of_international_standards</th>\n",
       "      <th>Local_pollution</th>\n",
       "      <th>Climate_change_GHG_emissions_and_global_pollution</th>\n",
       "      <th>Other_environmental_issues</th>\n",
       "      <th>...</th>\n",
       "      <th>Poor_employmen_conditions</th>\n",
       "      <th>Misleading_communication</th>\n",
       "      <th>Freedom_of_association_and_collective_bargaining</th>\n",
       "      <th>Forced_labor</th>\n",
       "      <th>Child_labor</th>\n",
       "      <th>Discrimination_in_employment</th>\n",
       "      <th>Fraud</th>\n",
       "      <th>Tax_evasion</th>\n",
       "      <th>Anti_competitive_practices</th>\n",
       "      <th>Tax_optimization</th>\n",
       "    </tr>\n",
       "  </thead>\n",
       "  <tbody>\n",
       "    <tr>\n",
       "      <th>0</th>\n",
       "      <td>US02376R1023</td>\n",
       "      <td>American Airlines Group Inc</td>\n",
       "      <td>Airlines</td>\n",
       "      <td>False</td>\n",
       "      <td>15.0</td>\n",
       "      <td>3.0</td>\n",
       "      <td>1.0</td>\n",
       "      <td>0.0</td>\n",
       "      <td>8.0</td>\n",
       "      <td>0.0</td>\n",
       "      <td>...</td>\n",
       "      <td>17.0</td>\n",
       "      <td>2.0</td>\n",
       "      <td>10.0</td>\n",
       "      <td>0.0</td>\n",
       "      <td>0.0</td>\n",
       "      <td>7.0</td>\n",
       "      <td>6.0</td>\n",
       "      <td>1.0</td>\n",
       "      <td>27.0</td>\n",
       "      <td>0.0</td>\n",
       "    </tr>\n",
       "    <tr>\n",
       "      <th>1</th>\n",
       "      <td>US0378331005</td>\n",
       "      <td>Apple Inc (Apple)</td>\n",
       "      <td>Technology Hardware and Equipment</td>\n",
       "      <td>False</td>\n",
       "      <td>71.0</td>\n",
       "      <td>77.0</td>\n",
       "      <td>16.0</td>\n",
       "      <td>72.0</td>\n",
       "      <td>17.0</td>\n",
       "      <td>1.0</td>\n",
       "      <td>...</td>\n",
       "      <td>315.0</td>\n",
       "      <td>47.0</td>\n",
       "      <td>37.0</td>\n",
       "      <td>89.0</td>\n",
       "      <td>132.0</td>\n",
       "      <td>32.0</td>\n",
       "      <td>90.0</td>\n",
       "      <td>66.0</td>\n",
       "      <td>234.0</td>\n",
       "      <td>157.0</td>\n",
       "    </tr>\n",
       "    <tr>\n",
       "      <th>2</th>\n",
       "      <td>US0394831020</td>\n",
       "      <td>Archer Daniels Midland Co (ADM)</td>\n",
       "      <td>Food and Beverage</td>\n",
       "      <td>False</td>\n",
       "      <td>64.0</td>\n",
       "      <td>79.0</td>\n",
       "      <td>5.0</td>\n",
       "      <td>33.0</td>\n",
       "      <td>34.0</td>\n",
       "      <td>0.0</td>\n",
       "      <td>...</td>\n",
       "      <td>16.0</td>\n",
       "      <td>15.0</td>\n",
       "      <td>1.0</td>\n",
       "      <td>28.0</td>\n",
       "      <td>30.0</td>\n",
       "      <td>4.0</td>\n",
       "      <td>8.0</td>\n",
       "      <td>1.0</td>\n",
       "      <td>16.0</td>\n",
       "      <td>2.0</td>\n",
       "    </tr>\n",
       "    <tr>\n",
       "      <th>3</th>\n",
       "      <td>US02005N1000</td>\n",
       "      <td>Ally Financial Inc (formerly GMAC Inc)</td>\n",
       "      <td>Financial Services</td>\n",
       "      <td>False</td>\n",
       "      <td>14.0</td>\n",
       "      <td>0.0</td>\n",
       "      <td>0.0</td>\n",
       "      <td>0.0</td>\n",
       "      <td>0.0</td>\n",
       "      <td>0.0</td>\n",
       "      <td>...</td>\n",
       "      <td>0.0</td>\n",
       "      <td>1.0</td>\n",
       "      <td>0.0</td>\n",
       "      <td>0.0</td>\n",
       "      <td>0.0</td>\n",
       "      <td>0.0</td>\n",
       "      <td>20.0</td>\n",
       "      <td>0.0</td>\n",
       "      <td>1.0</td>\n",
       "      <td>0.0</td>\n",
       "    </tr>\n",
       "    <tr>\n",
       "      <th>4</th>\n",
       "      <td>US02043Q1076</td>\n",
       "      <td>Alnylam Pharmaceuticals Inc</td>\n",
       "      <td>Pharmaceuticals and Biotechnology</td>\n",
       "      <td>False</td>\n",
       "      <td>0.0</td>\n",
       "      <td>0.0</td>\n",
       "      <td>0.0</td>\n",
       "      <td>0.0</td>\n",
       "      <td>0.0</td>\n",
       "      <td>0.0</td>\n",
       "      <td>...</td>\n",
       "      <td>0.0</td>\n",
       "      <td>0.0</td>\n",
       "      <td>0.0</td>\n",
       "      <td>0.0</td>\n",
       "      <td>0.0</td>\n",
       "      <td>0.0</td>\n",
       "      <td>0.0</td>\n",
       "      <td>0.0</td>\n",
       "      <td>0.0</td>\n",
       "      <td>0.0</td>\n",
       "    </tr>\n",
       "  </tbody>\n",
       "</table>\n",
       "<p>5 rows × 35 columns</p>\n",
       "</div>"
      ],
      "text/plain": [
       "           ISIN                                    name  \\\n",
       "0  US02376R1023             American Airlines Group Inc   \n",
       "1  US0378331005                       Apple Inc (Apple)   \n",
       "2  US0394831020         Archer Daniels Midland Co (ADM)   \n",
       "3  US02005N1000  Ally Financial Inc (formerly GMAC Inc)   \n",
       "4  US02043Q1076             Alnylam Pharmaceuticals Inc   \n",
       "\n",
       "                             sectors  No_reported_risk_exposure  \\\n",
       "0                           Airlines                      False   \n",
       "1  Technology Hardware and Equipment                      False   \n",
       "2                  Food and Beverage                      False   \n",
       "3                 Financial Services                      False   \n",
       "4  Pharmaceuticals and Biotechnology                      False   \n",
       "\n",
       "   Impacts_on_communities  Impacts_on_landscapes_ecosystems_and_biodiversity   \\\n",
       "0                    15.0                                                3.0    \n",
       "1                    71.0                                               77.0    \n",
       "2                    64.0                                               79.0    \n",
       "3                    14.0                                                0.0    \n",
       "4                     0.0                                                0.0    \n",
       "\n",
       "   Violation_of_international_standards  Local_pollution  \\\n",
       "0                                   1.0              0.0   \n",
       "1                                  16.0             72.0   \n",
       "2                                   5.0             33.0   \n",
       "3                                   0.0              0.0   \n",
       "4                                   0.0              0.0   \n",
       "\n",
       "   Climate_change_GHG_emissions_and_global_pollution  \\\n",
       "0                                                8.0   \n",
       "1                                               17.0   \n",
       "2                                               34.0   \n",
       "3                                                0.0   \n",
       "4                                                0.0   \n",
       "\n",
       "   Other_environmental_issues  ...  Poor_employmen_conditions  \\\n",
       "0                         0.0  ...                       17.0   \n",
       "1                         1.0  ...                      315.0   \n",
       "2                         0.0  ...                       16.0   \n",
       "3                         0.0  ...                        0.0   \n",
       "4                         0.0  ...                        0.0   \n",
       "\n",
       "   Misleading_communication  Freedom_of_association_and_collective_bargaining  \\\n",
       "0                       2.0                                              10.0   \n",
       "1                      47.0                                              37.0   \n",
       "2                      15.0                                               1.0   \n",
       "3                       1.0                                               0.0   \n",
       "4                       0.0                                               0.0   \n",
       "\n",
       "   Forced_labor  Child_labor  Discrimination_in_employment  Fraud  \\\n",
       "0           0.0          0.0                           7.0    6.0   \n",
       "1          89.0        132.0                          32.0   90.0   \n",
       "2          28.0         30.0                           4.0    8.0   \n",
       "3           0.0          0.0                           0.0   20.0   \n",
       "4           0.0          0.0                           0.0    0.0   \n",
       "\n",
       "   Tax_evasion  Anti_competitive_practices  Tax_optimization  \n",
       "0          1.0                        27.0               0.0  \n",
       "1         66.0                       234.0             157.0  \n",
       "2          1.0                        16.0               2.0  \n",
       "3          0.0                         1.0               0.0  \n",
       "4          0.0                         0.0               0.0  \n",
       "\n",
       "[5 rows x 35 columns]"
      ]
     },
     "execution_count": 3,
     "metadata": {},
     "output_type": "execute_result"
    }
   ],
   "source": [
    "data_demo.head()"
   ]
  },
  {
   "cell_type": "code",
   "execution_count": 4,
   "metadata": {},
   "outputs": [],
   "source": [
    "## get the data for the number of new in array and sum\n",
    "train=data_demo.drop([\"ISIN\",\"name\",\"sectors\",\"No_reported_risk_exposure\"], axis=1).values.sum(axis=1)"
   ]
  },
  {
   "cell_type": "code",
   "execution_count": 40,
   "metadata": {},
   "outputs": [],
   "source": [
    "theta_0=np.array([train.mean()])"
   ]
  },
  {
   "cell_type": "code",
   "execution_count": 6,
   "metadata": {},
   "outputs": [
    {
     "data": {
      "text/plain": [
       "723630.4570759623"
      ]
     },
     "execution_count": 6,
     "metadata": {},
     "output_type": "execute_result"
    }
   ],
   "source": [
    "variance=train.var()\n",
    "variance"
   ]
  },
  {
   "cell_type": "code",
   "execution_count": 13,
   "metadata": {},
   "outputs": [],
   "source": [
    "data=pd.read_csv(\"rep.csv\")"
   ]
  },
  {
   "cell_type": "code",
   "execution_count": 8,
   "metadata": {},
   "outputs": [],
   "source": [
    "truth=data.drop([\"RepRisk_ID\",\"name\",\"sectors\",\"primary_ISIN\",\"No_reported_risk_exposure\",\"all_ISINs\"], axis=1).values.sum(axis=1).reshape(-1,1)"
   ]
  },
  {
   "cell_type": "code",
   "execution_count": 27,
   "metadata": {},
   "outputs": [
    {
     "data": {
      "text/plain": [
       "35712.3597083323"
      ]
     },
     "execution_count": 27,
     "metadata": {},
     "output_type": "execute_result"
    }
   ],
   "source": [
    "truth.var()"
   ]
  },
  {
   "cell_type": "code",
   "execution_count": 48,
   "metadata": {},
   "outputs": [],
   "source": [
    "def log_like(y,mu):\n",
    "    '''compute grad log pdf'''\n",
    "    return np.sum(abs(y-mu))\n",
    "\n",
    "def log_prior(mu):\n",
    "    '''compute grad log prior'''\n",
    "    return -mu/35712\n",
    "    \n",
    "def gradU(theta, x, n, batch_size):\n",
    "    return -(n*log_like(x,theta)/batch_size+log_prior(theta))"
   ]
  },
  {
   "cell_type": "code",
   "execution_count": 70,
   "metadata": {},
   "outputs": [],
   "source": [
    "np.random.seed(1111)\n",
    "# Set up the data\n",
    "p = 1 #dimension of theta\n",
    "theta = theta_0\n",
    "n = 10000\n",
    "\n",
    "\n",
    "    \n",
    "## Initialize parameters and sample \n",
    "    \n",
    "# Initialize mean parameters\n",
    "#theta_0 = np.random.normal(size=(p,1))\n",
    "theta_0 = theta # initialize at \"true\" value for testing\n",
    "    \n",
    "# Initialize tuning parameters:\n",
    "# learning rate\n",
    "eta = 0.01/n * np.eye(p)\n",
    "# Friction rate\n",
    "alpha = 0.1 * np.eye(p)\n",
    "    \n",
    "# Arbitrary guess at covariance of noise from mini-batching the data\n",
    "V = np.eye(p)*truth.var()\n",
    "niter = 50\n",
    "batch_size=1000\n",
    "    \n",
    "# Run sampling algorithm\n",
    "samps = sghmc(gradU, eta, niter, alpha, theta_0, V, truth, batch_size)\n"
   ]
  },
  {
   "cell_type": "code",
   "execution_count": 74,
   "metadata": {},
   "outputs": [
    {
     "data": {
      "image/png": "[encoded data removed]",
      "text/plain": [
       "<Figure size 432x288 with 1 Axes>"
      ]
     },
     "metadata": {},
     "output_type": "display_data"
    }
   ],
   "source": [
    "sns.kdeplot(samps.reshape(-1))\n",
    "sns.kdeplot(x)\n",
    "plt.title(\"Prior and Kenrel density\")\n",
    "plt.savefig(\"Appli_2.png\")"
   ]
  },
  {
   "cell_type": "code",
   "execution_count": 72,
   "metadata": {},
   "outputs": [],
   "source": [
    "x=np.random.normal(theta_0,np.sqrt(truth.var()),100000)\n",
    "\n",
    "\n"
   ]
  },
  {
   "cell_type": "code",
   "execution_count": 73,
   "metadata": {},
   "outputs": [
    {
     "data": {
      "image/png": "[encoded data removed]",
      "text/plain": [
       "<Figure size 432x288 with 1 Axes>"
      ]
     },
     "metadata": {},
     "output_type": "display_data"
    }
   ],
   "source": [
    "sns.kdeplot(samps.reshape(-1))\n",
    "plt.title(\"Kenrel density\")\n",
    "plt.savefig(\"Appli_1.png\")"
   ]
  },
  {
   "cell_type": "code",
   "execution_count": null,
   "metadata": {},
   "outputs": [],
   "source": []
  }
 ],
 "metadata": {
  "kernelspec": {
   "display_name": "Python 3",
   "language": "python",
   "name": "python3"
  },
  "language_info": {
   "codemirror_mode": {
    "name": "ipython",
    "version": 3
   },
   "file_extension": ".py",
   "mimetype": "text/x-python",
   "name": "python",
   "nbconvert_exporter": "python",
   "pygments_lexer": "ipython3",
   "version": "3.6.10"
  }
 },
 "nbformat": 4,
 "nbformat_minor": 2
}
